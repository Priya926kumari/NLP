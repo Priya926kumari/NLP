{
 "cells": [
  {
   "cell_type": "code",
   "execution_count": null,
   "id": "f8ca5b92",
   "metadata": {
    "colab": {
     "base_uri": "https://localhost:8080/"
    },
    "id": "f8ca5b92",
    "outputId": "2859f984-f70d-4320-85ec-04d9b0d2135d"
   },
   "outputs": [
    {
     "name": "stdout",
     "output_type": "stream",
     "text": [
      "Requirement already satisfied: tensorflow_text in /usr/local/lib/python3.10/dist-packages (2.15.0)\n",
      "Requirement already satisfied: tensorflow-hub>=0.13.0 in /usr/local/lib/python3.10/dist-packages (from tensorflow_text) (0.16.1)\n",
      "Requirement already satisfied: tensorflow<2.16,>=2.15.0 in /usr/local/lib/python3.10/dist-packages (from tensorflow_text) (2.15.0)\n",
      "Requirement already satisfied: absl-py>=1.0.0 in /usr/local/lib/python3.10/dist-packages (from tensorflow<2.16,>=2.15.0->tensorflow_text) (1.4.0)\n",
      "Requirement already satisfied: astunparse>=1.6.0 in /usr/local/lib/python3.10/dist-packages (from tensorflow<2.16,>=2.15.0->tensorflow_text) (1.6.3)\n",
      "Requirement already satisfied: flatbuffers>=23.5.26 in /usr/local/lib/python3.10/dist-packages (from tensorflow<2.16,>=2.15.0->tensorflow_text) (23.5.26)\n",
      "Requirement already satisfied: gast!=0.5.0,!=0.5.1,!=0.5.2,>=0.2.1 in /usr/local/lib/python3.10/dist-packages (from tensorflow<2.16,>=2.15.0->tensorflow_text) (0.5.4)\n",
      "Requirement already satisfied: google-pasta>=0.1.1 in /usr/local/lib/python3.10/dist-packages (from tensorflow<2.16,>=2.15.0->tensorflow_text) (0.2.0)\n",
      "Requirement already satisfied: h5py>=2.9.0 in /usr/local/lib/python3.10/dist-packages (from tensorflow<2.16,>=2.15.0->tensorflow_text) (3.9.0)\n",
      "Requirement already satisfied: libclang>=13.0.0 in /usr/local/lib/python3.10/dist-packages (from tensorflow<2.16,>=2.15.0->tensorflow_text) (16.0.6)\n",
      "Requirement already satisfied: ml-dtypes~=0.2.0 in /usr/local/lib/python3.10/dist-packages (from tensorflow<2.16,>=2.15.0->tensorflow_text) (0.2.0)\n",
      "Requirement already satisfied: numpy<2.0.0,>=1.23.5 in /usr/local/lib/python3.10/dist-packages (from tensorflow<2.16,>=2.15.0->tensorflow_text) (1.25.2)\n",
      "Requirement already satisfied: opt-einsum>=2.3.2 in /usr/local/lib/python3.10/dist-packages (from tensorflow<2.16,>=2.15.0->tensorflow_text) (3.3.0)\n",
      "Requirement already satisfied: packaging in /usr/local/lib/python3.10/dist-packages (from tensorflow<2.16,>=2.15.0->tensorflow_text) (23.2)\n",
      "Requirement already satisfied: protobuf!=4.21.0,!=4.21.1,!=4.21.2,!=4.21.3,!=4.21.4,!=4.21.5,<5.0.0dev,>=3.20.3 in /usr/local/lib/python3.10/dist-packages (from tensorflow<2.16,>=2.15.0->tensorflow_text) (3.20.3)\n",
      "Requirement already satisfied: setuptools in /usr/local/lib/python3.10/dist-packages (from tensorflow<2.16,>=2.15.0->tensorflow_text) (67.7.2)\n",
      "Requirement already satisfied: six>=1.12.0 in /usr/local/lib/python3.10/dist-packages (from tensorflow<2.16,>=2.15.0->tensorflow_text) (1.16.0)\n",
      "Requirement already satisfied: termcolor>=1.1.0 in /usr/local/lib/python3.10/dist-packages (from tensorflow<2.16,>=2.15.0->tensorflow_text) (2.4.0)\n",
      "Requirement already satisfied: typing-extensions>=3.6.6 in /usr/local/lib/python3.10/dist-packages (from tensorflow<2.16,>=2.15.0->tensorflow_text) (4.10.0)\n",
      "Requirement already satisfied: wrapt<1.15,>=1.11.0 in /usr/local/lib/python3.10/dist-packages (from tensorflow<2.16,>=2.15.0->tensorflow_text) (1.14.1)\n",
      "Requirement already satisfied: tensorflow-io-gcs-filesystem>=0.23.1 in /usr/local/lib/python3.10/dist-packages (from tensorflow<2.16,>=2.15.0->tensorflow_text) (0.36.0)\n",
      "Requirement already satisfied: grpcio<2.0,>=1.24.3 in /usr/local/lib/python3.10/dist-packages (from tensorflow<2.16,>=2.15.0->tensorflow_text) (1.62.0)\n",
      "Requirement already satisfied: tensorboard<2.16,>=2.15 in /usr/local/lib/python3.10/dist-packages (from tensorflow<2.16,>=2.15.0->tensorflow_text) (2.15.2)\n",
      "Requirement already satisfied: tensorflow-estimator<2.16,>=2.15.0 in /usr/local/lib/python3.10/dist-packages (from tensorflow<2.16,>=2.15.0->tensorflow_text) (2.15.0)\n",
      "Requirement already satisfied: keras<2.16,>=2.15.0 in /usr/local/lib/python3.10/dist-packages (from tensorflow<2.16,>=2.15.0->tensorflow_text) (2.15.0)\n",
      "Requirement already satisfied: tf-keras>=2.14.1 in /usr/local/lib/python3.10/dist-packages (from tensorflow-hub>=0.13.0->tensorflow_text) (2.15.0)\n",
      "Requirement already satisfied: wheel<1.0,>=0.23.0 in /usr/local/lib/python3.10/dist-packages (from astunparse>=1.6.0->tensorflow<2.16,>=2.15.0->tensorflow_text) (0.42.0)\n",
      "Requirement already satisfied: google-auth<3,>=1.6.3 in /usr/local/lib/python3.10/dist-packages (from tensorboard<2.16,>=2.15->tensorflow<2.16,>=2.15.0->tensorflow_text) (2.27.0)\n",
      "Requirement already satisfied: google-auth-oauthlib<2,>=0.5 in /usr/local/lib/python3.10/dist-packages (from tensorboard<2.16,>=2.15->tensorflow<2.16,>=2.15.0->tensorflow_text) (1.2.0)\n",
      "Requirement already satisfied: markdown>=2.6.8 in /usr/local/lib/python3.10/dist-packages (from tensorboard<2.16,>=2.15->tensorflow<2.16,>=2.15.0->tensorflow_text) (3.5.2)\n",
      "Requirement already satisfied: requests<3,>=2.21.0 in /usr/local/lib/python3.10/dist-packages (from tensorboard<2.16,>=2.15->tensorflow<2.16,>=2.15.0->tensorflow_text) (2.31.0)\n",
      "Requirement already satisfied: tensorboard-data-server<0.8.0,>=0.7.0 in /usr/local/lib/python3.10/dist-packages (from tensorboard<2.16,>=2.15->tensorflow<2.16,>=2.15.0->tensorflow_text) (0.7.2)\n",
      "Requirement already satisfied: werkzeug>=1.0.1 in /usr/local/lib/python3.10/dist-packages (from tensorboard<2.16,>=2.15->tensorflow<2.16,>=2.15.0->tensorflow_text) (3.0.1)\n",
      "Requirement already satisfied: cachetools<6.0,>=2.0.0 in /usr/local/lib/python3.10/dist-packages (from google-auth<3,>=1.6.3->tensorboard<2.16,>=2.15->tensorflow<2.16,>=2.15.0->tensorflow_text) (5.3.3)\n",
      "Requirement already satisfied: pyasn1-modules>=0.2.1 in /usr/local/lib/python3.10/dist-packages (from google-auth<3,>=1.6.3->tensorboard<2.16,>=2.15->tensorflow<2.16,>=2.15.0->tensorflow_text) (0.3.0)\n",
      "Requirement already satisfied: rsa<5,>=3.1.4 in /usr/local/lib/python3.10/dist-packages (from google-auth<3,>=1.6.3->tensorboard<2.16,>=2.15->tensorflow<2.16,>=2.15.0->tensorflow_text) (4.9)\n",
      "Requirement already satisfied: requests-oauthlib>=0.7.0 in /usr/local/lib/python3.10/dist-packages (from google-auth-oauthlib<2,>=0.5->tensorboard<2.16,>=2.15->tensorflow<2.16,>=2.15.0->tensorflow_text) (1.3.1)\n",
      "Requirement already satisfied: charset-normalizer<4,>=2 in /usr/local/lib/python3.10/dist-packages (from requests<3,>=2.21.0->tensorboard<2.16,>=2.15->tensorflow<2.16,>=2.15.0->tensorflow_text) (3.3.2)\n",
      "Requirement already satisfied: idna<4,>=2.5 in /usr/local/lib/python3.10/dist-packages (from requests<3,>=2.21.0->tensorboard<2.16,>=2.15->tensorflow<2.16,>=2.15.0->tensorflow_text) (3.6)\n",
      "Requirement already satisfied: urllib3<3,>=1.21.1 in /usr/local/lib/python3.10/dist-packages (from requests<3,>=2.21.0->tensorboard<2.16,>=2.15->tensorflow<2.16,>=2.15.0->tensorflow_text) (2.0.7)\n",
      "Requirement already satisfied: certifi>=2017.4.17 in /usr/local/lib/python3.10/dist-packages (from requests<3,>=2.21.0->tensorboard<2.16,>=2.15->tensorflow<2.16,>=2.15.0->tensorflow_text) (2024.2.2)\n",
      "Requirement already satisfied: MarkupSafe>=2.1.1 in /usr/local/lib/python3.10/dist-packages (from werkzeug>=1.0.1->tensorboard<2.16,>=2.15->tensorflow<2.16,>=2.15.0->tensorflow_text) (2.1.5)\n",
      "Requirement already satisfied: pyasn1<0.6.0,>=0.4.6 in /usr/local/lib/python3.10/dist-packages (from pyasn1-modules>=0.2.1->google-auth<3,>=1.6.3->tensorboard<2.16,>=2.15->tensorflow<2.16,>=2.15.0->tensorflow_text) (0.5.1)\n",
      "Requirement already satisfied: oauthlib>=3.0.0 in /usr/local/lib/python3.10/dist-packages (from requests-oauthlib>=0.7.0->google-auth-oauthlib<2,>=0.5->tensorboard<2.16,>=2.15->tensorflow<2.16,>=2.15.0->tensorflow_text) (3.2.2)\n"
     ]
    }
   ],
   "source": [
    "!pip install tensorflow_text"
   ]
  },
  {
   "cell_type": "markdown",
   "id": "_X1F8XpNf1RX",
   "metadata": {
    "id": "_X1F8XpNf1RX"
   },
   "source": [
    "### Utilization of tensorflow Hub to leverage pre-trained BERT models for text classification"
   ]
  },
  {
   "cell_type": "code",
   "execution_count": null,
   "id": "cMnCdDjPfz0Y",
   "metadata": {
    "id": "cMnCdDjPfz0Y"
   },
   "outputs": [],
   "source": [
    "import tensorflow as tf\n",
    "import tensorflow_hub as text\n",
    "import tensorflow_hub as hub\n",
    "import tensorflow_text as text"
   ]
  },
  {
   "cell_type": "code",
   "execution_count": null,
   "id": "fTbNvCkrb1M_",
   "metadata": {
    "id": "fTbNvCkrb1M_"
   },
   "outputs": [],
   "source": []
  },
  {
   "cell_type": "code",
   "execution_count": null,
   "id": "64999367",
   "metadata": {
    "colab": {
     "base_uri": "https://localhost:8080/",
     "height": 206
    },
    "id": "64999367",
    "outputId": "29b828ac-9065-41cf-fd13-888204e1c0da"
   },
   "outputs": [
    {
     "data": {
      "application/vnd.google.colaboratory.intrinsic+json": {
       "summary": "{\n  \"name\": \"df\",\n  \"rows\": 5171,\n  \"fields\": [\n    {\n      \"column\": \"Unnamed: 0\",\n      \"properties\": {\n        \"dtype\": \"number\",\n        \"std\": 1492,\n        \"min\": 0,\n        \"max\": 5170,\n        \"num_unique_values\": 5171,\n        \"samples\": [\n          2924,\n          3839,\n          3078\n        ],\n        \"semantic_type\": \"\",\n        \"description\": \"\"\n      }\n    },\n    {\n      \"column\": \"label\",\n      \"properties\": {\n        \"dtype\": \"category\",\n        \"num_unique_values\": 2,\n        \"samples\": [\n          \"spam\",\n          \"ham\"\n        ],\n        \"semantic_type\": \"\",\n        \"description\": \"\"\n      }\n    },\n    {\n      \"column\": \"text\",\n      \"properties\": {\n        \"dtype\": \"string\",\n        \"num_unique_values\": 4993,\n        \"samples\": [\n          \"Subject: hpl / conoco - teco waha 03 / 23 / 01 purchase\\r\\ndaren , conoco invoiced hpl at $ 5 . 87 for 03 / 23 at pgev / waha and deal ticket 685350 shows $ 4 . 87 . can you confirm the price ? thanks .\",\n          \"Subject: holiday on - call data\\r\\npipeline contact phone fax pager\\r\\nblack marlin blair lichentwalter 713 853 - 7367 713 646 - 3201 ( h )\\r\\n281 370 - 1866\\r\\ndebbie thompson 713 853 - 3144 713 646 - 3201\\r\\n( noms due today for 23 rd through 27 th )\\r\\nchannel jim tobacco 713 420 - 2159\\r\\ngas control 1 505 599 - 2333\\r\\n( open thursday . noms will be due through monday )\\r\\ncentana william spekels 713 627 - 6290 713 762 - 3450\\r\\ndonna spencer 713 627 - 6255\\r\\ngas control 1 888 204 - 1718\\r\\n( noms due today for 23 rd through 27 th )\\r\\nduke energy annette anderson 713 260 - 8603 713 949 - 3026\\r\\n( on call ) bob moseman 713 - 260 - 8698 ( thursday )\\r\\nopen tomorrow - noms will be due thru the 27 th )\\r\\nlonestar gary gafford 214 670 - 2674 214 875 - 3810\\r\\ngas control 214 875 - 2455 or 2456\\r\\n( noms due today , 23 rd thru 27 th )\\r\\nnorthern natural ben markey 853 - 7581 cell 713 446 - 9404 800 931 - 0398\\r\\n( on call ) charlie mosey 853 - 1520\\r\\ngas control 853 -\\r\\n( open thursday - noms due thru 27 th . )\\r\\neast trans - east texas\\r\\ntejas gas control 713 767 - 5366\\r\\npaula svehla 713 230 - 3569\\r\\nmickey chapman 713 230 - 3546\\r\\n( open thursday - noms due thru 27 th )\\r\\nmidcon ( y 2 k ) ken nachlinger 713 369 - 9284 713 369 - 9375 888 733 - 5954\\r\\n( on call ) steven 888 790 - 0255\\r\\n( y 2 k ) don 888 733 - 4602\\r\\ngas control 713 369 - 9200\\r\\n( noms due today , 23 rd thru 27 th )\\r\\nmoss bluff no current business\"\n        ],\n        \"semantic_type\": \"\",\n        \"description\": \"\"\n      }\n    },\n    {\n      \"column\": \"label_num\",\n      \"properties\": {\n        \"dtype\": \"number\",\n        \"std\": 0,\n        \"min\": 0,\n        \"max\": 1,\n        \"num_unique_values\": 2,\n        \"samples\": [\n          1,\n          0\n        ],\n        \"semantic_type\": \"\",\n        \"description\": \"\"\n      }\n    }\n  ]\n}",
       "type": "dataframe",
       "variable_name": "df"
      },
      "text/html": [
       "\n",
       "  <div id=\"df-891a1d44-dbec-4c2e-a54b-a31e4dfbc824\" class=\"colab-df-container\">\n",
       "    <div>\n",
       "<style scoped>\n",
       "    .dataframe tbody tr th:only-of-type {\n",
       "        vertical-align: middle;\n",
       "    }\n",
       "\n",
       "    .dataframe tbody tr th {\n",
       "        vertical-align: top;\n",
       "    }\n",
       "\n",
       "    .dataframe thead th {\n",
       "        text-align: right;\n",
       "    }\n",
       "</style>\n",
       "<table border=\"1\" class=\"dataframe\">\n",
       "  <thead>\n",
       "    <tr style=\"text-align: right;\">\n",
       "      <th></th>\n",
       "      <th>Unnamed: 0</th>\n",
       "      <th>label</th>\n",
       "      <th>text</th>\n",
       "      <th>label_num</th>\n",
       "    </tr>\n",
       "  </thead>\n",
       "  <tbody>\n",
       "    <tr>\n",
       "      <th>0</th>\n",
       "      <td>605</td>\n",
       "      <td>ham</td>\n",
       "      <td>Subject: enron methanol ; meter # : 988291\\r\\n...</td>\n",
       "      <td>0</td>\n",
       "    </tr>\n",
       "    <tr>\n",
       "      <th>1</th>\n",
       "      <td>2349</td>\n",
       "      <td>ham</td>\n",
       "      <td>Subject: hpl nom for january 9 , 2001\\r\\n( see...</td>\n",
       "      <td>0</td>\n",
       "    </tr>\n",
       "    <tr>\n",
       "      <th>2</th>\n",
       "      <td>3624</td>\n",
       "      <td>ham</td>\n",
       "      <td>Subject: neon retreat\\r\\nho ho ho , we ' re ar...</td>\n",
       "      <td>0</td>\n",
       "    </tr>\n",
       "    <tr>\n",
       "      <th>3</th>\n",
       "      <td>4685</td>\n",
       "      <td>spam</td>\n",
       "      <td>Subject: photoshop , windows , office . cheap ...</td>\n",
       "      <td>1</td>\n",
       "    </tr>\n",
       "    <tr>\n",
       "      <th>4</th>\n",
       "      <td>2030</td>\n",
       "      <td>ham</td>\n",
       "      <td>Subject: re : indian springs\\r\\nthis deal is t...</td>\n",
       "      <td>0</td>\n",
       "    </tr>\n",
       "  </tbody>\n",
       "</table>\n",
       "</div>\n",
       "    <div class=\"colab-df-buttons\">\n",
       "\n",
       "  <div class=\"colab-df-container\">\n",
       "    <button class=\"colab-df-convert\" onclick=\"convertToInteractive('df-891a1d44-dbec-4c2e-a54b-a31e4dfbc824')\"\n",
       "            title=\"Convert this dataframe to an interactive table.\"\n",
       "            style=\"display:none;\">\n",
       "\n",
       "  <svg xmlns=\"http://www.w3.org/2000/svg\" height=\"24px\" viewBox=\"0 -960 960 960\">\n",
       "    <path d=\"M120-120v-720h720v720H120Zm60-500h600v-160H180v160Zm220 220h160v-160H400v160Zm0 220h160v-160H400v160ZM180-400h160v-160H180v160Zm440 0h160v-160H620v160ZM180-180h160v-160H180v160Zm440 0h160v-160H620v160Z\"/>\n",
       "  </svg>\n",
       "    </button>\n",
       "\n",
       "  <style>\n",
       "    .colab-df-container {\n",
       "      display:flex;\n",
       "      gap: 12px;\n",
       "    }\n",
       "\n",
       "    .colab-df-convert {\n",
       "      background-color: #E8F0FE;\n",
       "      border: none;\n",
       "      border-radius: 50%;\n",
       "      cursor: pointer;\n",
       "      display: none;\n",
       "      fill: #1967D2;\n",
       "      height: 32px;\n",
       "      padding: 0 0 0 0;\n",
       "      width: 32px;\n",
       "    }\n",
       "\n",
       "    .colab-df-convert:hover {\n",
       "      background-color: #E2EBFA;\n",
       "      box-shadow: 0px 1px 2px rgba(60, 64, 67, 0.3), 0px 1px 3px 1px rgba(60, 64, 67, 0.15);\n",
       "      fill: #174EA6;\n",
       "    }\n",
       "\n",
       "    .colab-df-buttons div {\n",
       "      margin-bottom: 4px;\n",
       "    }\n",
       "\n",
       "    [theme=dark] .colab-df-convert {\n",
       "      background-color: #3B4455;\n",
       "      fill: #D2E3FC;\n",
       "    }\n",
       "\n",
       "    [theme=dark] .colab-df-convert:hover {\n",
       "      background-color: #434B5C;\n",
       "      box-shadow: 0px 1px 3px 1px rgba(0, 0, 0, 0.15);\n",
       "      filter: drop-shadow(0px 1px 2px rgba(0, 0, 0, 0.3));\n",
       "      fill: #FFFFFF;\n",
       "    }\n",
       "  </style>\n",
       "\n",
       "    <script>\n",
       "      const buttonEl =\n",
       "        document.querySelector('#df-891a1d44-dbec-4c2e-a54b-a31e4dfbc824 button.colab-df-convert');\n",
       "      buttonEl.style.display =\n",
       "        google.colab.kernel.accessAllowed ? 'block' : 'none';\n",
       "\n",
       "      async function convertToInteractive(key) {\n",
       "        const element = document.querySelector('#df-891a1d44-dbec-4c2e-a54b-a31e4dfbc824');\n",
       "        const dataTable =\n",
       "          await google.colab.kernel.invokeFunction('convertToInteractive',\n",
       "                                                    [key], {});\n",
       "        if (!dataTable) return;\n",
       "\n",
       "        const docLinkHtml = 'Like what you see? Visit the ' +\n",
       "          '<a target=\"_blank\" href=https://colab.research.google.com/notebooks/data_table.ipynb>data table notebook</a>'\n",
       "          + ' to learn more about interactive tables.';\n",
       "        element.innerHTML = '';\n",
       "        dataTable['output_type'] = 'display_data';\n",
       "        await google.colab.output.renderOutput(dataTable, element);\n",
       "        const docLink = document.createElement('div');\n",
       "        docLink.innerHTML = docLinkHtml;\n",
       "        element.appendChild(docLink);\n",
       "      }\n",
       "    </script>\n",
       "  </div>\n",
       "\n",
       "\n",
       "<div id=\"df-78de912d-e865-44be-aa69-f5073862ec76\">\n",
       "  <button class=\"colab-df-quickchart\" onclick=\"quickchart('df-78de912d-e865-44be-aa69-f5073862ec76')\"\n",
       "            title=\"Suggest charts\"\n",
       "            style=\"display:none;\">\n",
       "\n",
       "<svg xmlns=\"http://www.w3.org/2000/svg\" height=\"24px\"viewBox=\"0 0 24 24\"\n",
       "     width=\"24px\">\n",
       "    <g>\n",
       "        <path d=\"M19 3H5c-1.1 0-2 .9-2 2v14c0 1.1.9 2 2 2h14c1.1 0 2-.9 2-2V5c0-1.1-.9-2-2-2zM9 17H7v-7h2v7zm4 0h-2V7h2v10zm4 0h-2v-4h2v4z\"/>\n",
       "    </g>\n",
       "</svg>\n",
       "  </button>\n",
       "\n",
       "<style>\n",
       "  .colab-df-quickchart {\n",
       "      --bg-color: #E8F0FE;\n",
       "      --fill-color: #1967D2;\n",
       "      --hover-bg-color: #E2EBFA;\n",
       "      --hover-fill-color: #174EA6;\n",
       "      --disabled-fill-color: #AAA;\n",
       "      --disabled-bg-color: #DDD;\n",
       "  }\n",
       "\n",
       "  [theme=dark] .colab-df-quickchart {\n",
       "      --bg-color: #3B4455;\n",
       "      --fill-color: #D2E3FC;\n",
       "      --hover-bg-color: #434B5C;\n",
       "      --hover-fill-color: #FFFFFF;\n",
       "      --disabled-bg-color: #3B4455;\n",
       "      --disabled-fill-color: #666;\n",
       "  }\n",
       "\n",
       "  .colab-df-quickchart {\n",
       "    background-color: var(--bg-color);\n",
       "    border: none;\n",
       "    border-radius: 50%;\n",
       "    cursor: pointer;\n",
       "    display: none;\n",
       "    fill: var(--fill-color);\n",
       "    height: 32px;\n",
       "    padding: 0;\n",
       "    width: 32px;\n",
       "  }\n",
       "\n",
       "  .colab-df-quickchart:hover {\n",
       "    background-color: var(--hover-bg-color);\n",
       "    box-shadow: 0 1px 2px rgba(60, 64, 67, 0.3), 0 1px 3px 1px rgba(60, 64, 67, 0.15);\n",
       "    fill: var(--button-hover-fill-color);\n",
       "  }\n",
       "\n",
       "  .colab-df-quickchart-complete:disabled,\n",
       "  .colab-df-quickchart-complete:disabled:hover {\n",
       "    background-color: var(--disabled-bg-color);\n",
       "    fill: var(--disabled-fill-color);\n",
       "    box-shadow: none;\n",
       "  }\n",
       "\n",
       "  .colab-df-spinner {\n",
       "    border: 2px solid var(--fill-color);\n",
       "    border-color: transparent;\n",
       "    border-bottom-color: var(--fill-color);\n",
       "    animation:\n",
       "      spin 1s steps(1) infinite;\n",
       "  }\n",
       "\n",
       "  @keyframes spin {\n",
       "    0% {\n",
       "      border-color: transparent;\n",
       "      border-bottom-color: var(--fill-color);\n",
       "      border-left-color: var(--fill-color);\n",
       "    }\n",
       "    20% {\n",
       "      border-color: transparent;\n",
       "      border-left-color: var(--fill-color);\n",
       "      border-top-color: var(--fill-color);\n",
       "    }\n",
       "    30% {\n",
       "      border-color: transparent;\n",
       "      border-left-color: var(--fill-color);\n",
       "      border-top-color: var(--fill-color);\n",
       "      border-right-color: var(--fill-color);\n",
       "    }\n",
       "    40% {\n",
       "      border-color: transparent;\n",
       "      border-right-color: var(--fill-color);\n",
       "      border-top-color: var(--fill-color);\n",
       "    }\n",
       "    60% {\n",
       "      border-color: transparent;\n",
       "      border-right-color: var(--fill-color);\n",
       "    }\n",
       "    80% {\n",
       "      border-color: transparent;\n",
       "      border-right-color: var(--fill-color);\n",
       "      border-bottom-color: var(--fill-color);\n",
       "    }\n",
       "    90% {\n",
       "      border-color: transparent;\n",
       "      border-bottom-color: var(--fill-color);\n",
       "    }\n",
       "  }\n",
       "</style>\n",
       "\n",
       "  <script>\n",
       "    async function quickchart(key) {\n",
       "      const quickchartButtonEl =\n",
       "        document.querySelector('#' + key + ' button');\n",
       "      quickchartButtonEl.disabled = true;  // To prevent multiple clicks.\n",
       "      quickchartButtonEl.classList.add('colab-df-spinner');\n",
       "      try {\n",
       "        const charts = await google.colab.kernel.invokeFunction(\n",
       "            'suggestCharts', [key], {});\n",
       "      } catch (error) {\n",
       "        console.error('Error during call to suggestCharts:', error);\n",
       "      }\n",
       "      quickchartButtonEl.classList.remove('colab-df-spinner');\n",
       "      quickchartButtonEl.classList.add('colab-df-quickchart-complete');\n",
       "    }\n",
       "    (() => {\n",
       "      let quickchartButtonEl =\n",
       "        document.querySelector('#df-78de912d-e865-44be-aa69-f5073862ec76 button');\n",
       "      quickchartButtonEl.style.display =\n",
       "        google.colab.kernel.accessAllowed ? 'block' : 'none';\n",
       "    })();\n",
       "  </script>\n",
       "</div>\n",
       "\n",
       "    </div>\n",
       "  </div>\n"
      ],
      "text/plain": [
       "   Unnamed: 0 label                                               text  \\\n",
       "0         605   ham  Subject: enron methanol ; meter # : 988291\\r\\n...   \n",
       "1        2349   ham  Subject: hpl nom for january 9 , 2001\\r\\n( see...   \n",
       "2        3624   ham  Subject: neon retreat\\r\\nho ho ho , we ' re ar...   \n",
       "3        4685  spam  Subject: photoshop , windows , office . cheap ...   \n",
       "4        2030   ham  Subject: re : indian springs\\r\\nthis deal is t...   \n",
       "\n",
       "   label_num  \n",
       "0          0  \n",
       "1          0  \n",
       "2          0  \n",
       "3          1  \n",
       "4          0  "
      ]
     },
     "execution_count": 3,
     "metadata": {},
     "output_type": "execute_result"
    }
   ],
   "source": [
    "import pandas as pd\n",
    "df=pd.read_csv(\"spam.csv\")\n",
    "df.head()"
   ]
  },
  {
   "cell_type": "code",
   "execution_count": null,
   "id": "9c9deac5",
   "metadata": {
    "colab": {
     "base_uri": "https://localhost:8080/"
    },
    "id": "9c9deac5",
    "outputId": "a6f7a75f-c870-41f4-9e15-eda39e3a65b8"
   },
   "outputs": [
    {
     "data": {
      "text/plain": [
       "ham     3672\n",
       "spam    1499\n",
       "Name: label, dtype: int64"
      ]
     },
     "execution_count": 4,
     "metadata": {},
     "output_type": "execute_result"
    }
   ],
   "source": [
    "df['label'].value_counts()"
   ]
  },
  {
   "cell_type": "code",
   "execution_count": null,
   "id": "8842d9a7",
   "metadata": {
    "colab": {
     "base_uri": "https://localhost:8080/"
    },
    "id": "8842d9a7",
    "outputId": "4acdba18-cc57-40e1-df33-36678731cbbf"
   },
   "outputs": [
    {
     "data": {
      "text/plain": [
       "(3672, 4)"
      ]
     },
     "execution_count": 5,
     "metadata": {},
     "output_type": "execute_result"
    }
   ],
   "source": [
    "## unbalanced dataset-downsampling(easy method)\n",
    "df_ham=df[df['label']=='ham']\n",
    "df_ham.shape\n"
   ]
  },
  {
   "cell_type": "code",
   "execution_count": null,
   "id": "650395ba",
   "metadata": {
    "colab": {
     "base_uri": "https://localhost:8080/"
    },
    "id": "650395ba",
    "outputId": "f80fd83b-12e7-4bc9-9434-f4aaf178c7ba"
   },
   "outputs": [
    {
     "data": {
      "text/plain": [
       "(1499, 4)"
      ]
     },
     "execution_count": 6,
     "metadata": {},
     "output_type": "execute_result"
    }
   ],
   "source": [
    "df_spam=df[df['label']=='spam']\n",
    "df_spam.shape\n"
   ]
  },
  {
   "cell_type": "code",
   "execution_count": null,
   "id": "b289a353",
   "metadata": {
    "colab": {
     "base_uri": "https://localhost:8080/"
    },
    "id": "b289a353",
    "outputId": "b8c6e283-fd23-430a-d709-f2d45a2ad22b"
   },
   "outputs": [
    {
     "data": {
      "text/plain": [
       "(1499, 4)"
      ]
     },
     "execution_count": 7,
     "metadata": {},
     "output_type": "execute_result"
    }
   ],
   "source": [
    "df_ham_downsampled=df_ham.sample(df_spam.shape[0])\n",
    "df_ham_downsampled.shape"
   ]
  },
  {
   "cell_type": "code",
   "execution_count": null,
   "id": "90e041a9",
   "metadata": {
    "colab": {
     "base_uri": "https://localhost:8080/"
    },
    "id": "90e041a9",
    "outputId": "35bed719-4f26-4099-e66b-1cd7d6d982c8"
   },
   "outputs": [
    {
     "data": {
      "text/plain": [
       "(2998, 4)"
      ]
     },
     "execution_count": 8,
     "metadata": {},
     "output_type": "execute_result"
    }
   ],
   "source": [
    "df_balanced=pd.concat([df_ham_downsampled,df_spam])\n",
    "df_balanced.shape"
   ]
  },
  {
   "cell_type": "code",
   "execution_count": null,
   "id": "a907b994",
   "metadata": {
    "colab": {
     "base_uri": "https://localhost:8080/"
    },
    "id": "a907b994",
    "outputId": "fe477b52-3673-4b02-b744-81e20c1fce97"
   },
   "outputs": [
    {
     "data": {
      "text/plain": [
       "ham     1499\n",
       "spam    1499\n",
       "Name: label, dtype: int64"
      ]
     },
     "execution_count": 9,
     "metadata": {},
     "output_type": "execute_result"
    }
   ],
   "source": [
    "df_balanced['label'].value_counts()"
   ]
  },
  {
   "cell_type": "code",
   "execution_count": null,
   "id": "c3d08690",
   "metadata": {
    "id": "c3d08690"
   },
   "outputs": [],
   "source": [
    " from sklearn.model_selection import train_test_split\n",
    "X_train,X_test,y_train, y_test=train_test_split(df_balanced['text'],df_balanced['label_num'], stratify=df_balanced['label'])"
   ]
  },
  {
   "cell_type": "code",
   "execution_count": null,
   "id": "NmVlrVMIc8r_",
   "metadata": {
    "colab": {
     "base_uri": "https://localhost:8080/"
    },
    "id": "NmVlrVMIc8r_",
    "outputId": "cb5a9c02-5f27-436b-8096-446e3a1e5fe5"
   },
   "outputs": [
    {
     "data": {
      "text/plain": [
       "(2998, 4)"
      ]
     },
     "execution_count": 11,
     "metadata": {},
     "output_type": "execute_result"
    }
   ],
   "source": [
    "df_balanced.shape"
   ]
  },
  {
   "cell_type": "code",
   "execution_count": null,
   "id": "1f33df68",
   "metadata": {
    "colab": {
     "base_uri": "https://localhost:8080/"
    },
    "id": "1f33df68",
    "outputId": "4972fb98-07f2-4ab4-eb98-9b5ba4951a7f"
   },
   "outputs": [
    {
     "data": {
      "text/plain": [
       "231       c , | alis soft ` tabs , fast shipping `\\r\\n...\n",
       "4904      daren ,\\r\\ni have no problem sticking around...\n",
       "4505      no , i am real confused .\\r\\nthe onl * ine s...\n",
       "3372      inexplicable crying spells , sadness and / o...\n",
       "3155      txu gas distribution deal # 646679\\r\\nplease...\n",
       "Name: text, dtype: object"
      ]
     },
     "execution_count": 12,
     "metadata": {},
     "output_type": "execute_result"
    }
   ],
   "source": [
    "X_train=X_train.str.replace('Subject:',\" \")\n",
    "X_train.head()"
   ]
  },
  {
   "cell_type": "markdown",
   "id": "O9ndAkA4UdO4",
   "metadata": {
    "id": "O9ndAkA4UdO4"
   },
   "source": [
    "BERT"
   ]
  },
  {
   "cell_type": "code",
   "execution_count": null,
   "id": "ef6b8316",
   "metadata": {
    "id": "ef6b8316"
   },
   "outputs": [],
   "source": [
    "bert_preprocess=hub.KerasLayer(\"https://tfhub.dev/tensorflow/bert_en_uncased_preprocess/3\")\n",
    "bert_encoder = hub.KerasLayer(\"https://tfhub.dev/tensorflow/bert_en_uncased_L-12_H-768_A-12/4\")"
   ]
  },
  {
   "cell_type": "code",
   "execution_count": null,
   "id": "hkfO8lhWUreS",
   "metadata": {
    "colab": {
     "base_uri": "https://localhost:8080/"
    },
    "id": "hkfO8lhWUreS",
    "outputId": "09326f34-7d94-4a90-a616-d00f358993cf"
   },
   "outputs": [
    {
     "data": {
      "text/plain": [
       "{'sequence_output': <tf.Tensor: shape=(2, 128, 768), dtype=float32, numpy=\n",
       " array([[[ 0.0412035 ,  0.34257308, -0.18548623, ..., -0.17405242,\n",
       "           0.00598939,  0.07412153],\n",
       "         [ 0.2313804 ,  0.00645972,  0.68863857, ..., -0.06295711,\n",
       "           0.21765035, -0.8602514 ],\n",
       "         [ 0.3803552 , -0.6135296 ,  0.24269846, ...,  0.85957   ,\n",
       "           0.01383325, -0.5160356 ],\n",
       "         ...,\n",
       "         [-0.17007382,  0.36189058,  0.8132361 , ...,  0.18827972,\n",
       "          -0.04361098, -0.11537205],\n",
       "         [-0.33499968, -0.35951576,  0.3797515 , ...,  0.5989379 ,\n",
       "          -0.0858556 , -0.32428998],\n",
       "         [-0.203864  ,  0.15042508,  0.77139854, ...,  0.15890062,\n",
       "           0.02269278, -0.165168  ]],\n",
       " \n",
       "        [[-0.5124443 ,  0.08093267, -0.61858475, ..., -0.2074132 ,\n",
       "           0.06316054,  0.51839876],\n",
       "         [-0.32319286,  0.10605142,  0.09032454, ..., -0.1891659 ,\n",
       "           0.25386202,  0.68367237],\n",
       "         [-0.72004294, -0.17296304,  0.06877096, ..., -0.55400866,\n",
       "           0.06099255,  0.31426004],\n",
       "         ...,\n",
       "         [-0.4175067 , -0.18338653,  0.2883994 , ...,  0.00792526,\n",
       "           0.05897395,  0.23882812],\n",
       "         [-0.24948937, -0.22534348,  0.26095536, ..., -0.05940528,\n",
       "           0.06867024,  0.19118379],\n",
       "         [-0.3404714 , -0.15007782,  0.26573026, ..., -0.02818231,\n",
       "           0.06760636,  0.2684635 ]]], dtype=float32)>,\n",
       " 'default': <tf.Tensor: shape=(2, 768), dtype=float32, numpy=\n",
       " array([[-0.83910173, -0.24106702, -0.06422015, ...,  0.0125601 ,\n",
       "         -0.5869788 ,  0.8833673 ],\n",
       "        [-0.8588015 , -0.35114902, -0.52973604, ..., -0.47492054,\n",
       "         -0.62053615,  0.8622802 ]], dtype=float32)>,\n",
       " 'encoder_outputs': [<tf.Tensor: shape=(2, 128, 768), dtype=float32, numpy=\n",
       "  array([[[ 0.18236443,  0.03049388, -0.15222704, ..., -0.05199801,\n",
       "            0.08674929,  0.05523622],\n",
       "          [ 0.60900545, -0.7193007 ,  0.7235899 , ..., -0.44836605,\n",
       "           -0.6903518 , -1.4447974 ],\n",
       "          [ 0.57035595, -0.6292316 ,  0.40940666, ..., -0.18278432,\n",
       "            0.17102861, -0.11017687],\n",
       "          ...,\n",
       "          [-0.05756096, -0.16937137,  0.5180867 , ...,  0.43847826,\n",
       "           -0.313321  , -0.04231798],\n",
       "          [-0.15850578, -0.19746262,  0.41125253, ...,  0.44920594,\n",
       "           -0.21758473, -0.1242265 ],\n",
       "          [-0.01556123, -0.08831754,  0.42993268, ...,  0.7759606 ,\n",
       "           -0.51436836, -0.17734389]],\n",
       "  \n",
       "         [[ 0.11672549,  0.05203436, -0.09025855, ...,  0.01138743,\n",
       "            0.04715544,  0.01556881],\n",
       "          [ 0.3060948 ,  0.3262642 , -0.05027565, ...,  0.7126548 ,\n",
       "            1.0616931 , -0.20382148],\n",
       "          [-0.28235805,  0.02149209,  0.03825051, ...,  0.25402868,\n",
       "            0.69279486, -0.33323932],\n",
       "          ...,\n",
       "          [ 0.01909351, -0.14608383,  0.5163152 , ...,  0.42084545,\n",
       "           -0.34224826,  0.13222021],\n",
       "          [-0.06965268, -0.1613669 ,  0.39343426, ...,  0.4341382 ,\n",
       "           -0.2407176 ,  0.01496827],\n",
       "          [ 0.07904605, -0.07617968,  0.40621644, ...,  0.7820189 ,\n",
       "           -0.58171135, -0.07437267]]], dtype=float32)>,\n",
       "  <tf.Tensor: shape=(2, 128, 768), dtype=float32, numpy=\n",
       "  array([[[ 0.05341464, -0.1702553 , -0.19820043, ...,  0.04210976,\n",
       "            0.08882092,  0.09791557],\n",
       "          [ 0.9767941 , -0.31240416,  1.1393992 , ..., -0.12440071,\n",
       "           -0.6190007 , -1.7598109 ],\n",
       "          [ 0.68795687, -0.6779715 ,  0.4537483 , ..., -0.46444032,\n",
       "            0.7827168 , -0.12424184],\n",
       "          ...,\n",
       "          [-0.22368188, -0.15033677,  0.5088546 , ...,  0.81387776,\n",
       "           -0.43115503, -0.11472697],\n",
       "          [-0.33921823, -0.18747327,  0.4098321 , ...,  0.8462001 ,\n",
       "           -0.3010474 , -0.11542954],\n",
       "          [-0.15027475, -0.0150494 ,  0.49069074, ...,  1.0200152 ,\n",
       "           -0.51152617, -0.18670711]],\n",
       "  \n",
       "         [[ 0.03788602, -0.1379428 , -0.17135158, ...,  0.14711043,\n",
       "            0.07878703,  0.06101326],\n",
       "          [-0.18983051,  0.42081162, -0.0655873 , ...,  0.35977012,\n",
       "            0.70502007,  0.70014834],\n",
       "          [-0.73314995,  0.03947977, -0.04237907, ...,  0.00674766,\n",
       "            0.43950307,  0.27301252],\n",
       "          ...,\n",
       "          [-0.1091366 , -0.11901133,  0.5423297 , ...,  0.835934  ,\n",
       "           -0.5511834 ,  0.02144026],\n",
       "          [-0.1724504 , -0.09136043,  0.51977944, ...,  0.9072801 ,\n",
       "           -0.5262171 , -0.09269624],\n",
       "          [-0.07044938, -0.0300351 ,  0.4269855 , ...,  1.056162  ,\n",
       "           -0.6807716 , -0.17246142]]], dtype=float32)>,\n",
       "  <tf.Tensor: shape=(2, 128, 768), dtype=float32, numpy=\n",
       "  array([[[ 0.0065803 , -0.19002245,  0.02405987, ...,  0.20356306,\n",
       "            0.0900567 ,  0.2819202 ],\n",
       "          [ 0.9201114 , -0.5588028 ,  1.3404906 , ..., -0.08767722,\n",
       "           -0.99765456, -2.0018182 ],\n",
       "          [ 0.8643261 , -0.48011976,  0.42537034, ..., -0.44963345,\n",
       "            0.5022342 , -0.26854363],\n",
       "          ...,\n",
       "          [-0.2623539 , -0.00755925,  0.84546113, ...,  0.906872  ,\n",
       "           -0.2024664 , -0.25281313],\n",
       "          [-0.55448186, -0.09894322,  0.83272904, ...,  1.0207204 ,\n",
       "           -0.21221486, -0.2344534 ],\n",
       "          [-0.20758224,  0.04898907,  0.87828445, ...,  1.1053832 ,\n",
       "           -0.32768846, -0.34040186]],\n",
       "  \n",
       "         [[ 0.09380753, -0.23140176, -0.04400181, ...,  0.20610693,\n",
       "            0.07292019,  0.22779396],\n",
       "          [-0.5994841 ,  0.4715518 ,  0.17020121, ..., -0.01088995,\n",
       "           -0.12683937,  0.51966524],\n",
       "          [-0.79778147, -0.16134878,  0.09638412, ..., -0.2601441 ,\n",
       "            0.47730675, -0.54893804],\n",
       "          ...,\n",
       "          [-0.15085399,  0.01286739,  0.68217057, ...,  0.87637687,\n",
       "           -0.20135295, -0.04809568],\n",
       "          [-0.23354724,  0.06239869,  0.66444397, ...,  0.9566862 ,\n",
       "           -0.1808117 , -0.20717195],\n",
       "          [-0.12653583,  0.08039825,  0.6575515 , ...,  1.0885332 ,\n",
       "           -0.32488853, -0.2509622 ]]], dtype=float32)>,\n",
       "  <tf.Tensor: shape=(2, 128, 768), dtype=float32, numpy=\n",
       "  array([[[ 0.22958434, -0.22316246, -0.14655387, ...,  0.22779447,\n",
       "           -0.20982574,  0.6618658 ],\n",
       "          [ 1.0770952 , -0.5336337 ,  1.2572664 , ...,  0.13100374,\n",
       "           -1.2529601 , -1.9053074 ],\n",
       "          [ 0.66324544, -0.7385835 ,  0.23009059, ..., -0.58246243,\n",
       "           -0.23445715, -0.4963046 ],\n",
       "          ...,\n",
       "          [-0.46393934, -0.43491507,  1.1960225 , ...,  0.91685057,\n",
       "           -0.6999297 , -0.25297314],\n",
       "          [-0.93498313, -0.7137518 ,  0.81942636, ...,  0.9647695 ,\n",
       "           -0.85438067, -0.26190633],\n",
       "          [-0.47218835, -0.4700802 ,  1.1929177 , ...,  1.1272875 ,\n",
       "           -0.855867  , -0.30449787]],\n",
       "  \n",
       "         [[ 0.39050967, -0.5470398 , -0.44920486, ...,  0.54269737,\n",
       "            0.04544313,  0.70030224],\n",
       "          [-0.8185464 ,  0.7461538 , -0.26655084, ..., -0.05573799,\n",
       "           -0.5897767 ,  0.81198174],\n",
       "          [-1.0111479 , -0.07683135, -0.37210307, ..., -0.13085595,\n",
       "            0.21223214, -0.15113196],\n",
       "          ...,\n",
       "          [-0.42708874, -0.53276217,  0.7521007 , ...,  0.8444103 ,\n",
       "           -0.7890573 ,  0.0480776 ],\n",
       "          [-0.43030214, -0.23905985,  1.0385187 , ...,  0.89948726,\n",
       "           -0.62649775, -0.19872814],\n",
       "          [-0.3953464 , -0.40518907,  0.96080244, ...,  1.0182709 ,\n",
       "           -0.79090804, -0.18557785]]], dtype=float32)>,\n",
       "  <tf.Tensor: shape=(2, 128, 768), dtype=float32, numpy=\n",
       "  array([[[ 0.2312887 , -0.10062125, -0.26192567, ..., -0.11847238,\n",
       "           -0.17708547,  0.8018398 ],\n",
       "          [ 0.84899175, -0.4726679 ,  1.6696706 , ...,  0.8871554 ,\n",
       "           -1.2345804 , -1.8296729 ],\n",
       "          [ 1.0479693 , -0.3707864 ,  1.2543286 , ..., -0.75794405,\n",
       "            0.11086619, -0.00748621],\n",
       "          ...,\n",
       "          [-0.21547347, -0.22501424,  1.523794  , ...,  0.93169427,\n",
       "           -0.05919095, -0.5419758 ],\n",
       "          [-0.82362133, -0.10215941,  1.1959331 , ...,  1.033347  ,\n",
       "           -0.42772776, -0.50271547],\n",
       "          [-0.39984417, -0.25779992,  1.4934982 , ...,  1.096773  ,\n",
       "           -0.26500225, -0.6879569 ]],\n",
       "  \n",
       "         [[-0.17070198, -0.774829  , -0.42008665, ..., -0.02439358,\n",
       "            0.07064184,  0.8897764 ],\n",
       "          [-0.94433737,  0.47043818,  0.22396873, ..., -0.34495077,\n",
       "           -0.7411518 ,  0.20880744],\n",
       "          [-0.78480095, -0.2861505 , -0.26079673, ..., -0.17791145,\n",
       "           -0.28064036, -0.17216192],\n",
       "          ...,\n",
       "          [-0.5281848 , -0.29883125,  0.35530964, ..., -0.10528724,\n",
       "           -0.5889928 , -0.20243019],\n",
       "          [-0.39469284, -0.16280623,  0.56418216, ...,  0.02257254,\n",
       "           -0.5389921 , -0.35410103],\n",
       "          [-0.44774595, -0.24926509,  0.46245182, ...,  0.08848216,\n",
       "           -0.68057483, -0.40607625]]], dtype=float32)>,\n",
       "  <tf.Tensor: shape=(2, 128, 768), dtype=float32, numpy=\n",
       "  array([[[ 3.01627904e-01, -3.44116539e-01, -1.49506256e-01, ...,\n",
       "           -6.11114055e-02, -1.24305785e-01,  7.27774382e-01],\n",
       "          [ 7.97151387e-01, -6.37608528e-01,  1.81214070e+00, ...,\n",
       "            9.96695638e-01, -9.61213291e-01, -1.60322809e+00],\n",
       "          [ 1.00095046e+00,  3.14300656e-01,  9.97448146e-01, ...,\n",
       "           -7.88103342e-01,  2.89332032e-01, -2.82224715e-01],\n",
       "          ...,\n",
       "          [-2.54149616e-01,  1.38387173e-01,  1.74884355e+00, ...,\n",
       "            1.19079161e+00, -1.31049290e-01, -6.07606232e-01],\n",
       "          [-9.13407505e-01,  2.42029935e-01,  1.28822470e+00, ...,\n",
       "            8.93562376e-01, -4.91719574e-01, -4.65086222e-01],\n",
       "          [-4.82983977e-01,  1.47794373e-03,  1.69250309e+00, ...,\n",
       "            1.22298205e+00, -2.75770128e-01, -7.27669775e-01]],\n",
       "  \n",
       "         [[-3.64194125e-01, -9.79671717e-01, -6.47113800e-01, ...,\n",
       "            1.17359143e-02, -2.05057979e-01,  9.39965248e-01],\n",
       "          [-8.95007610e-01,  2.43661329e-01,  5.28018653e-01, ...,\n",
       "           -4.15905148e-01, -8.13074648e-01,  1.42092720e-01],\n",
       "          [-4.92528856e-01,  2.26014942e-01,  3.90131384e-01, ...,\n",
       "           -4.14267808e-01, -2.71607131e-01,  3.35601643e-02],\n",
       "          ...,\n",
       "          [-6.73595250e-01, -1.38254970e-01,  5.33299863e-01, ...,\n",
       "            3.23636718e-02, -6.34019673e-01, -1.25566363e-01],\n",
       "          [-4.47403371e-01, -3.87636796e-02,  6.86933279e-01, ...,\n",
       "            5.79986721e-02, -6.33059800e-01, -2.91792840e-01],\n",
       "          [-5.58687031e-01, -7.07236826e-02,  6.40091777e-01, ...,\n",
       "            2.00813204e-01, -6.83101356e-01, -3.54791969e-01]]],\n",
       "        dtype=float32)>,\n",
       "  <tf.Tensor: shape=(2, 128, 768), dtype=float32, numpy=\n",
       "  array([[[-0.13052785, -0.29025024, -0.22685173, ...,  0.11727072,\n",
       "            0.02204216,  1.0422428 ],\n",
       "          [ 0.6964238 , -0.6537378 ,  1.5715067 , ...,  1.0700408 ,\n",
       "           -0.34226274, -2.0323348 ],\n",
       "          [ 0.71448344, -0.03982164,  0.29070085, ..., -0.3949776 ,\n",
       "            0.2477617 , -0.10950023],\n",
       "          ...,\n",
       "          [-0.05563949,  0.1306368 ,  1.7565036 , ...,  1.2673652 ,\n",
       "           -0.09519448, -0.5982963 ],\n",
       "          [-0.98105514,  0.09142079,  0.98679656, ...,  0.6608217 ,\n",
       "           -0.49490446, -0.3199334 ],\n",
       "          [-0.32315287, -0.14499804,  1.7180362 , ...,  1.1322407 ,\n",
       "           -0.17283112, -0.728262  ]],\n",
       "  \n",
       "         [[-0.51374614, -0.73137945, -0.56954855, ...,  0.233738  ,\n",
       "            0.12776953,  1.1477875 ],\n",
       "          [-0.8990431 ,  0.2701388 ,  0.6983664 , ...,  0.10559046,\n",
       "           -0.41078213,  0.35955   ],\n",
       "          [-0.51430786,  0.24421625,  0.67252916, ..., -0.64723575,\n",
       "            0.4420016 ,  0.04681417],\n",
       "          ...,\n",
       "          [-0.4178247 , -0.2488087 ,  0.47828466, ...,  0.21688803,\n",
       "           -0.45003712,  0.05250094],\n",
       "          [-0.36044928, -0.14688149,  1.0232952 , ...,  0.14273854,\n",
       "           -0.5770967 , -0.3253568 ],\n",
       "          [-0.35487008, -0.24059953,  0.6269102 , ...,  0.34647727,\n",
       "           -0.47084954, -0.12515359]]], dtype=float32)>,\n",
       "  <tf.Tensor: shape=(2, 128, 768), dtype=float32, numpy=\n",
       "  array([[[-3.0235401e-01,  3.1967551e-01, -4.1864777e-01, ...,\n",
       "           -2.4541876e-01,  2.5070599e-01,  1.1789150e+00],\n",
       "          [ 3.9610702e-01, -6.6080254e-01,  1.5884938e+00, ...,\n",
       "            5.2416825e-01, -4.2593071e-01, -1.5130394e+00],\n",
       "          [ 1.9243832e-01,  8.6488388e-03,  9.7662762e-02, ...,\n",
       "           -6.2105405e-01, -2.7161822e-01, -1.5038684e-01],\n",
       "          ...,\n",
       "          [-4.6058938e-02,  4.9226922e-01,  1.8834100e+00, ...,\n",
       "            1.1076406e+00,  1.3094087e-01, -5.9115219e-01],\n",
       "          [-1.1551446e+00, -6.3626677e-02,  9.0768480e-01, ...,\n",
       "            1.1201577e-01, -6.9421673e-01, -4.2651224e-01],\n",
       "          [-1.8431848e-01,  6.3910030e-02,  1.8161166e+00, ...,\n",
       "            8.8079858e-01,  3.8201120e-03, -7.2740954e-01]],\n",
       "  \n",
       "         [[-5.6042838e-01, -4.3614686e-01, -7.9241145e-01, ...,\n",
       "           -5.6094170e-01, -1.7128661e-01,  1.1460536e+00],\n",
       "          [-4.0740475e-01,  5.8961576e-01,  5.7489651e-01, ...,\n",
       "           -4.7454074e-01, -2.6432478e-01,  5.3843635e-01],\n",
       "          [-2.8304219e-01,  3.7243688e-01,  6.9613391e-01, ...,\n",
       "           -7.2076154e-01,  5.1974851e-01, -2.1086752e-02],\n",
       "          ...,\n",
       "          [-5.2018285e-01, -1.4259379e-01,  4.5632645e-01, ...,\n",
       "            4.0122546e-02, -4.4959515e-01, -4.9292266e-02],\n",
       "          [-3.0821881e-01, -1.0801996e-03,  9.5233226e-01, ...,\n",
       "            7.8656062e-02, -5.1957864e-01, -5.0692827e-01],\n",
       "          [-3.8929629e-01, -9.1252118e-02,  5.9457791e-01, ...,\n",
       "            1.7672539e-01, -4.7366810e-01, -2.0819926e-01]]], dtype=float32)>,\n",
       "  <tf.Tensor: shape=(2, 128, 768), dtype=float32, numpy=\n",
       "  array([[[-0.5046414 ,  0.80120254, -0.611632  , ..., -0.09620831,\n",
       "           -0.17772588,  0.8711801 ],\n",
       "          [ 0.53552073, -0.28482208,  1.314768  , ...,  0.27439237,\n",
       "           -0.5233282 , -1.2649925 ],\n",
       "          [ 0.00963195,  0.0997998 , -0.02441301, ..., -0.20261121,\n",
       "           -0.3044914 , -0.4023532 ],\n",
       "          ...,\n",
       "          [ 0.05398089,  0.9835734 ,  2.0917222 , ...,  0.97231644,\n",
       "            0.18022667, -0.39671585],\n",
       "          [-1.1081487 ,  0.05733103,  0.191846  , ..., -0.0220066 ,\n",
       "           -0.80919564, -0.44362116],\n",
       "          [-0.20195144,  0.36939067,  1.9426137 , ...,  0.80482   ,\n",
       "            0.12573409, -0.66120684]],\n",
       "  \n",
       "         [[-0.8717851 , -0.3761316 , -0.7961867 , ..., -0.5049335 ,\n",
       "           -0.19173473,  0.863555  ],\n",
       "          [-0.2731233 ,  0.61395514,  0.49486881, ..., -0.70199645,\n",
       "           -0.21622747,  0.6261352 ],\n",
       "          [-0.46186092,  0.24667841,  0.62381536, ..., -0.88076943,\n",
       "            0.36658382,  0.15379132],\n",
       "          ...,\n",
       "          [-0.9275967 , -0.223544  ,  0.0774557 , ..., -0.04043733,\n",
       "           -0.43419918, -0.07188915],\n",
       "          [-0.22911403,  0.0600501 ,  0.8648537 , ...,  0.08023829,\n",
       "           -0.3999795 , -0.39285958],\n",
       "          [-0.7384639 , -0.04067218,  0.29758915, ...,  0.10365053,\n",
       "           -0.38002616, -0.0842062 ]]], dtype=float32)>,\n",
       "  <tf.Tensor: shape=(2, 128, 768), dtype=float32, numpy=\n",
       "  array([[[-0.41812605,  0.7657248 , -0.42756593, ..., -0.21949884,\n",
       "           -0.738391  ,  0.38420847],\n",
       "          [ 0.4604018 , -0.5418532 ,  1.4070561 , ...,  0.18962315,\n",
       "           -0.45269117, -1.2652005 ],\n",
       "          [-0.02542759, -0.30599394,  0.17020994, ...,  0.01460894,\n",
       "           -0.3563895 , -0.6535214 ],\n",
       "          ...,\n",
       "          [ 0.19799972,  1.3189089 ,  1.6771361 , ...,  0.806389  ,\n",
       "           -0.03750211, -0.39198685],\n",
       "          [-1.2873838 , -0.32378054,  0.41175634, ...,  0.48047426,\n",
       "           -0.92734843, -0.5609092 ],\n",
       "          [-0.06701964,  0.5512011 ,  1.5364745 , ...,  0.5905111 ,\n",
       "           -0.07183462, -0.56025094]],\n",
       "  \n",
       "         [[-1.0436921 , -0.38216946, -0.75924087, ..., -0.34729648,\n",
       "           -0.25730103,  0.83262545],\n",
       "          [-0.40566367,  0.57293004,  0.33791244, ..., -0.6166899 ,\n",
       "            0.11909494,  0.58543575],\n",
       "          [-0.6749115 ,  0.2353342 ,  0.5552566 , ..., -0.8085585 ,\n",
       "            0.18900754,  0.0903414 ],\n",
       "          ...,\n",
       "          [-0.8296955 , -0.05233248,  0.62571394, ..., -0.37216258,\n",
       "           -0.00406008,  0.11329396],\n",
       "          [-0.16009344,  0.15029286,  0.91548187, ..., -0.18446203,\n",
       "           -0.40612128, -0.30740857],\n",
       "          [-0.57856166,  0.11433186,  0.68213445, ..., -0.32134387,\n",
       "           -0.05819178,  0.10381001]]], dtype=float32)>,\n",
       "  <tf.Tensor: shape=(2, 128, 768), dtype=float32, numpy=\n",
       "  array([[[-0.16729322,  0.76790917, -0.18789716, ..., -0.3223577 ,\n",
       "           -0.39968514, -0.11172524],\n",
       "          [ 0.11703324, -0.19016457,  1.0915903 , ..., -0.16687709,\n",
       "           -0.49842986, -1.1853169 ],\n",
       "          [ 0.25789124, -0.71072817,  0.37018195, ...,  0.3349021 ,\n",
       "           -0.00922173, -0.5890703 ],\n",
       "          ...,\n",
       "          [-0.38756093,  1.1511728 ,  1.8249345 , ...,  0.27210367,\n",
       "           -0.30605674, -0.3057234 ],\n",
       "          [-1.122118  , -0.6365644 ,  0.888586  , ...,  0.48699066,\n",
       "           -0.5491011 , -0.5301434 ],\n",
       "          [-0.6325138 ,  0.4970615 ,  1.772086  , ...,  0.11323799,\n",
       "           -0.221841  , -0.3840401 ]],\n",
       "  \n",
       "         [[-0.81424195, -0.083922  , -0.4656431 , ..., -0.40940756,\n",
       "           -0.60906535,  0.43367273],\n",
       "          [-0.36337224,  0.32719353,  0.3347874 , ..., -0.8950498 ,\n",
       "           -0.13177505,  0.66843265],\n",
       "          [-0.72319114,  0.1204521 ,  0.5398833 , ..., -0.98759496,\n",
       "           -0.36686802,  0.19534722],\n",
       "          ...,\n",
       "          [-0.97054994, -0.47487   ,  0.59005237, ..., -0.62230605,\n",
       "           -0.32940832,  0.18158016],\n",
       "          [-0.59371054, -0.5176606 ,  0.7019636 , ..., -0.50698996,\n",
       "           -0.41407126, -0.07525076],\n",
       "          [-0.797391  , -0.37617072,  0.5669422 , ..., -0.64686537,\n",
       "           -0.35468805,  0.23668785]]], dtype=float32)>,\n",
       "  <tf.Tensor: shape=(2, 128, 768), dtype=float32, numpy=\n",
       "  array([[[ 0.0412035 ,  0.34257308, -0.18548623, ..., -0.17405242,\n",
       "            0.00598939,  0.07412153],\n",
       "          [ 0.2313804 ,  0.00645972,  0.68863857, ..., -0.06295711,\n",
       "            0.21765035, -0.8602514 ],\n",
       "          [ 0.3803552 , -0.6135296 ,  0.24269846, ...,  0.85957   ,\n",
       "            0.01383325, -0.5160356 ],\n",
       "          ...,\n",
       "          [-0.17007382,  0.36189058,  0.8132361 , ...,  0.18827972,\n",
       "           -0.04361098, -0.11537205],\n",
       "          [-0.33499968, -0.35951576,  0.3797515 , ...,  0.5989379 ,\n",
       "           -0.0858556 , -0.32428998],\n",
       "          [-0.203864  ,  0.15042508,  0.77139854, ...,  0.15890062,\n",
       "            0.02269278, -0.165168  ]],\n",
       "  \n",
       "         [[-0.5124443 ,  0.08093267, -0.61858475, ..., -0.2074132 ,\n",
       "            0.06316054,  0.51839876],\n",
       "          [-0.32319286,  0.10605142,  0.09032454, ..., -0.1891659 ,\n",
       "            0.25386202,  0.68367237],\n",
       "          [-0.72004294, -0.17296304,  0.06877096, ..., -0.55400866,\n",
       "            0.06099255,  0.31426004],\n",
       "          ...,\n",
       "          [-0.4175067 , -0.18338653,  0.2883994 , ...,  0.00792526,\n",
       "            0.05897395,  0.23882812],\n",
       "          [-0.24948937, -0.22534348,  0.26095536, ..., -0.05940528,\n",
       "            0.06867024,  0.19118379],\n",
       "          [-0.3404714 , -0.15007782,  0.26573026, ..., -0.02818231,\n",
       "            0.06760636,  0.2684635 ]]], dtype=float32)>],\n",
       " 'pooled_output': <tf.Tensor: shape=(2, 768), dtype=float32, numpy=\n",
       " array([[-0.83910173, -0.24106702, -0.06422015, ...,  0.0125601 ,\n",
       "         -0.5869788 ,  0.8833673 ],\n",
       "        [-0.8588015 , -0.35114902, -0.52973604, ..., -0.47492054,\n",
       "         -0.62053615,  0.8622802 ]], dtype=float32)>}"
      ]
     },
     "execution_count": 14,
     "metadata": {},
     "output_type": "execute_result"
    }
   ],
   "source": [
    "## try with an example\n",
    "\n",
    "def get_sentence_embedding(sentence):\n",
    "  preprocessed_text=bert_preprocess(sentence)\n",
    "  return bert_encoder(preprocessed_text)\n",
    "\n",
    "get_sentence_embedding(['hi bill',' I iike playiung'])\n"
   ]
  },
  {
   "cell_type": "code",
   "execution_count": null,
   "id": "AGE0iDtlW3KM",
   "metadata": {
    "id": "AGE0iDtlW3KM"
   },
   "outputs": [],
   "source": [
    "##Bert Layer\n",
    "\n",
    "text_input=tf.keras.layers.Input(shape=(),dtype=tf.string,name='text')\n",
    "preprocessed_text=bert_preprocess(text_input)\n",
    "outputs=bert_encoder(preprocessed_text)"
   ]
  },
  {
   "cell_type": "code",
   "execution_count": null,
   "id": "1kxEQ6ulW3Mn",
   "metadata": {
    "id": "1kxEQ6ulW3Mn"
   },
   "outputs": [],
   "source": [
    "## Neural network layers\n",
    "l=tf.keras.layers.Dropout(0.1,name='dropout')(outputs['pooled_output'])\n",
    "l=tf.keras.layers.Dense(1, activation ='sigmoid', name='output')(l)"
   ]
  },
  {
   "cell_type": "code",
   "execution_count": null,
   "id": "0KvRcGocYGZL",
   "metadata": {
    "id": "0KvRcGocYGZL"
   },
   "outputs": [],
   "source": [
    "##final model\n",
    "model=tf.keras.Model(inputs=[text_input],outputs=[l])"
   ]
  },
  {
   "cell_type": "code",
   "execution_count": null,
   "id": "r4wokIUCW3O3",
   "metadata": {
    "colab": {
     "base_uri": "https://localhost:8080/"
    },
    "id": "r4wokIUCW3O3",
    "outputId": "23122883-051f-46c3-b2e0-3a04a5f46584"
   },
   "outputs": [
    {
     "name": "stdout",
     "output_type": "stream",
     "text": [
      "Model: \"model\"\n",
      "__________________________________________________________________________________________________\n",
      " Layer (type)                Output Shape                 Param #   Connected to                  \n",
      "==================================================================================================\n",
      " text (InputLayer)           [(None,)]                    0         []                            \n",
      "                                                                                                  \n",
      " keras_layer (KerasLayer)    {'input_type_ids': (None,    0         ['text[0][0]']                \n",
      "                             128),                                                                \n",
      "                              'input_mask': (None, 128)                                           \n",
      "                             , 'input_word_ids': (None,                                           \n",
      "                              128)}                                                               \n",
      "                                                                                                  \n",
      " keras_layer_1 (KerasLayer)  {'sequence_output': (None,   1094822   ['keras_layer[0][0]',         \n",
      "                              128, 768),                  41         'keras_layer[0][1]',         \n",
      "                              'default': (None, 768),                'keras_layer[0][2]']         \n",
      "                              'encoder_outputs': [(None                                           \n",
      "                             , 128, 768),                                                         \n",
      "                              (None, 128, 768),                                                   \n",
      "                              (None, 128, 768),                                                   \n",
      "                              (None, 128, 768),                                                   \n",
      "                              (None, 128, 768),                                                   \n",
      "                              (None, 128, 768),                                                   \n",
      "                              (None, 128, 768),                                                   \n",
      "                              (None, 128, 768),                                                   \n",
      "                              (None, 128, 768),                                                   \n",
      "                              (None, 128, 768),                                                   \n",
      "                              (None, 128, 768),                                                   \n",
      "                              (None, 128, 768)],                                                  \n",
      "                              'pooled_output': (None, 7                                           \n",
      "                             68)}                                                                 \n",
      "                                                                                                  \n",
      " dropout (Dropout)           (None, 768)                  0         ['keras_layer_1[0][13]']      \n",
      "                                                                                                  \n",
      " output (Dense)              (None, 1)                    769       ['dropout[0][0]']             \n",
      "                                                                                                  \n",
      "==================================================================================================\n",
      "Total params: 109483010 (417.64 MB)\n",
      "Trainable params: 769 (3.00 KB)\n",
      "Non-trainable params: 109482241 (417.64 MB)\n",
      "__________________________________________________________________________________________________\n"
     ]
    }
   ],
   "source": [
    "model.summary()"
   ]
  },
  {
   "cell_type": "code",
   "execution_count": null,
   "id": "EdpX2v__YeE6",
   "metadata": {
    "id": "EdpX2v__YeE6"
   },
   "outputs": [],
   "source": [
    "metrics=[tf.keras.metrics.BinaryAccuracy(name='Accuracy'),\n",
    "tf.keras.metrics.Precision(name='precision'),\n",
    "         tf.keras.metrics.Recall(name='Recall')]\n",
    "\n",
    "model.compile(optimizer='adam',loss='binary_crossentropy', metrics=metrics)"
   ]
  },
  {
   "cell_type": "code",
   "execution_count": null,
   "id": "NM46Y4DCczVj",
   "metadata": {
    "id": "NM46Y4DCczVj"
   },
   "outputs": [],
   "source": []
  },
  {
   "cell_type": "code",
   "execution_count": null,
   "id": "7HYCEO7_YeHv",
   "metadata": {
    "colab": {
     "background_save": true,
     "base_uri": "https://localhost:8080/"
    },
    "id": "7HYCEO7_YeHv",
    "outputId": "00d6f739-8a5d-4aba-9d18-99c103543390"
   },
   "outputs": [
    {
     "name": "stdout",
     "output_type": "stream",
     "text": [
      "Epoch 1/7\n",
      "71/71 [==============================] - 1126s 16s/step - loss: 0.6689 - Accuracy: 0.5974 - precision: 0.5942 - Recall: 0.6148\n",
      "Epoch 2/7\n",
      "71/71 [==============================] - 1122s 16s/step - loss: 0.5758 - Accuracy: 0.6975 - precision: 0.7106 - Recall: 0.6664\n",
      "Epoch 3/7\n",
      "71/71 [==============================] - 1120s 16s/step - loss: 0.5263 - Accuracy: 0.7607 - precision: 0.7584 - Recall: 0.7651\n",
      "Epoch 4/7\n",
      "71/71 [==============================] - 1113s 16s/step - loss: 0.4866 - Accuracy: 0.8034 - precision: 0.8123 - Recall: 0.7891\n",
      "Epoch 5/7\n",
      "71/71 [==============================] - 1114s 16s/step - loss: 0.4538 - Accuracy: 0.8243 - precision: 0.8359 - Recall: 0.8069\n",
      "Epoch 6/7\n",
      "71/71 [==============================] - 1112s 16s/step - loss: 0.4286 - Accuracy: 0.8439 - precision: 0.8549 - Recall: 0.8283\n",
      "Epoch 7/7\n",
      "71/71 [==============================] - 1108s 16s/step - loss: 0.4100 - Accuracy: 0.8519 - precision: 0.8599 - Recall: 0.8407\n"
     ]
    },
    {
     "data": {
      "text/plain": [
       "<keras.src.callbacks.History at 0x7da4487cc5e0>"
      ]
     },
     "execution_count": 20,
     "metadata": {},
     "output_type": "execute_result"
    }
   ],
   "source": [
    "##train the model\n",
    "\n",
    "model.fit(X_train,y_train,epochs=7)"
   ]
  },
  {
   "cell_type": "code",
   "execution_count": null,
   "id": "rCHNvuCRYeMw",
   "metadata": {
    "colab": {
     "background_save": true
    },
    "id": "rCHNvuCRYeMw",
    "outputId": "24a45f23-14a0-4a24-db28-2d76f06f9215"
   },
   "outputs": [
    {
     "name": "stdout",
     "output_type": "stream",
     "text": [
      "24/24 [==============================] - 367s 15s/step - loss: 0.3753 - Accuracy: 0.8813 - precision: 0.9181 - Recall: 0.8373\n"
     ]
    },
    {
     "data": {
      "text/plain": [
       "[0.3753340244293213,\n",
       " 0.8813333511352539,\n",
       " 0.9181286692619324,\n",
       " 0.8373333215713501]"
      ]
     },
     "execution_count": 21,
     "metadata": {},
     "output_type": "execute_result"
    }
   ],
   "source": [
    "model.evaluate(X_test, y_test)"
   ]
  },
  {
   "cell_type": "code",
   "execution_count": null,
   "id": "te0K8QHjHIpk",
   "metadata": {
    "colab": {
     "background_save": true
    },
    "id": "te0K8QHjHIpk",
    "outputId": "f5dd09f5-8d8b-4361-e077-dd5e0e284f51"
   },
   "outputs": [
    {
     "name": "stdout",
     "output_type": "stream",
     "text": [
      "24/24 [==============================] - 367s 15s/step\n"
     ]
    }
   ],
   "source": [
    "y_predicted = model.predict(X_test)\n",
    "y_predicted = y_predicted.flatten()"
   ]
  },
  {
   "cell_type": "code",
   "execution_count": null,
   "id": "xQ2c8lpvBhoQ",
   "metadata": {
    "colab": {
     "background_save": true
    },
    "id": "xQ2c8lpvBhoQ",
    "outputId": "0b824ff9-6b20-4cf5-d2b9-b9e49ef89591"
   },
   "outputs": [
    {
     "data": {
      "text/plain": [
       "array([0, 1, 1, 0, 1, 0, 0, 1, 0, 1, 0, 1, 0, 0, 1, 0, 1, 1, 0, 0, 1, 0,\n",
       "       0, 1, 1, 1, 0, 1, 0, 1, 1, 0, 1, 0, 0, 0, 0, 0, 1, 0, 0, 0, 0, 1,\n",
       "       1, 1, 0, 0, 1, 0, 1, 1, 0, 0, 0, 1, 1, 1, 0, 0, 1, 0, 0, 1, 0, 1,\n",
       "       1, 0, 0, 1, 0, 0, 0, 1, 0, 1, 0, 1, 0, 1, 0, 0, 1, 0, 0, 0, 0, 0,\n",
       "       1, 0, 1, 0, 0, 0, 0, 0, 0, 0, 1, 0, 0, 1, 0, 1, 0, 1, 0, 1, 1, 0,\n",
       "       1, 0, 0, 1, 1, 0, 1, 1, 1, 0, 0, 1, 1, 1, 1, 1, 0, 1, 0, 0, 1, 1,\n",
       "       0, 1, 1, 1, 1, 0, 0, 1, 1, 1, 1, 1, 0, 1, 1, 1, 1, 1, 0, 1, 0, 0,\n",
       "       1, 0, 1, 1, 1, 1, 1, 0, 0, 0, 1, 0, 1, 0, 0, 0, 0, 0, 0, 0, 1, 0,\n",
       "       0, 0, 0, 1, 1, 0, 1, 1, 1, 0, 0, 0, 0, 0, 1, 1, 0, 1, 0, 1, 0, 0,\n",
       "       0, 1, 1, 0, 0, 1, 0, 0, 1, 0, 1, 0, 1, 0, 0, 0, 1, 0, 0, 0, 1, 1,\n",
       "       0, 1, 1, 1, 1, 1, 0, 1, 1, 1, 1, 0, 1, 1, 0, 1, 1, 1, 1, 0, 1, 1,\n",
       "       0, 1, 0, 0, 0, 0, 0, 0, 1, 1, 1, 0, 0, 1, 0, 0, 0, 0, 1, 0, 1, 1,\n",
       "       1, 1, 1, 0, 0, 0, 1, 0, 0, 0, 1, 0, 0, 0, 1, 1, 0, 1, 1, 1, 1, 0,\n",
       "       1, 0, 0, 0, 0, 1, 0, 1, 0, 1, 1, 0, 1, 1, 1, 1, 1, 0, 0, 1, 0, 0,\n",
       "       1, 1, 1, 0, 1, 1, 0, 0, 1, 0, 1, 0, 0, 0, 0, 1, 0, 0, 1, 0, 1, 1,\n",
       "       1, 1, 0, 0, 0, 1, 0, 1, 1, 0, 1, 0, 1, 0, 0, 0, 0, 1, 0, 0, 1, 0,\n",
       "       0, 0, 0, 0, 1, 1, 1, 0, 1, 1, 1, 0, 0, 0, 0, 0, 0, 0, 0, 1, 0, 0,\n",
       "       0, 0, 1, 0, 1, 1, 1, 0, 0, 0, 1, 1, 1, 0, 0, 0, 1, 0, 0, 0, 1, 0,\n",
       "       1, 1, 0, 1, 1, 0, 0, 1, 0, 1, 0, 1, 1, 0, 1, 1, 1, 0, 1, 0, 0, 1,\n",
       "       1, 1, 1, 0, 1, 0, 0, 0, 0, 1, 1, 1, 1, 1, 0, 0, 1, 1, 0, 0, 0, 0,\n",
       "       1, 0, 1, 0, 1, 0, 0, 1, 1, 0, 1, 0, 0, 0, 1, 1, 1, 1, 1, 1, 1, 0,\n",
       "       1, 0, 0, 0, 1, 1, 0, 0, 0, 1, 0, 1, 1, 0, 0, 1, 0, 0, 0, 0, 1, 0,\n",
       "       1, 1, 1, 1, 0, 1, 1, 1, 0, 1, 1, 0, 0, 1, 0, 0, 0, 0, 1, 1, 0, 0,\n",
       "       1, 0, 0, 0, 0, 0, 1, 0, 0, 1, 0, 1, 0, 0, 0, 1, 0, 0, 1, 1, 1, 0,\n",
       "       1, 1, 0, 0, 0, 0, 0, 0, 1, 1, 0, 0, 1, 1, 1, 0, 0, 0, 0, 0, 1, 0,\n",
       "       1, 1, 1, 0, 1, 0, 0, 1, 0, 0, 0, 1, 0, 0, 1, 0, 1, 1, 1, 0, 0, 1,\n",
       "       0, 0, 0, 0, 0, 0, 0, 0, 0, 1, 1, 0, 1, 0, 1, 1, 0, 0, 0, 0, 1, 0,\n",
       "       1, 0, 1, 0, 0, 0, 0, 0, 1, 0, 0, 0, 1, 1, 0, 0, 1, 1, 1, 0, 0, 0,\n",
       "       1, 1, 1, 0, 0, 1, 0, 1, 0, 1, 1, 0, 0, 0, 0, 1, 0, 0, 0, 1, 0, 0,\n",
       "       0, 1, 1, 1, 0, 0, 1, 0, 0, 0, 1, 0, 0, 0, 0, 1, 1, 1, 1, 1, 0, 0,\n",
       "       1, 0, 0, 1, 0, 0, 0, 1, 0, 0, 0, 0, 1, 1, 1, 0, 1, 0, 1, 0, 1, 0,\n",
       "       0, 0, 1, 0, 0, 1, 0, 1, 0, 0, 1, 1, 1, 1, 1, 0, 0, 0, 1, 1, 1, 1,\n",
       "       0, 0, 1, 1, 1, 0, 0, 0, 0, 1, 1, 0, 0, 0, 0, 1, 0, 0, 0, 0, 1, 0,\n",
       "       1, 1, 1, 0, 0, 1, 0, 0, 0, 0, 0, 1, 1, 0, 1, 1, 1, 0, 1, 0, 1, 1,\n",
       "       0, 1])"
      ]
     },
     "execution_count": 23,
     "metadata": {},
     "output_type": "execute_result"
    }
   ],
   "source": [
    "import numpy as np\n",
    "\n",
    "y_predicted = np.where(y_predicted > 0.5, 1, 0)\n",
    "y_predicted"
   ]
  },
  {
   "cell_type": "code",
   "execution_count": null,
   "id": "JirdUKxaHCUT",
   "metadata": {
    "colab": {
     "background_save": true
    },
    "id": "JirdUKxaHCUT",
    "outputId": "49d77101-7c0e-45d1-c2a8-35ef2da5d9a1"
   },
   "outputs": [
    {
     "data": {
      "text/plain": [
       "array([[347,  28],\n",
       "       [ 61, 314]])"
      ]
     },
     "execution_count": 24,
     "metadata": {},
     "output_type": "execute_result"
    }
   ],
   "source": [
    "from sklearn.metrics import confusion_matrix, classification_report\n",
    "\n",
    "cm = confusion_matrix(y_test, y_predicted)\n",
    "cm"
   ]
  },
  {
   "cell_type": "code",
   "execution_count": null,
   "id": "DRl9RM8cHU4N",
   "metadata": {
    "colab": {
     "background_save": true
    },
    "id": "DRl9RM8cHU4N",
    "outputId": "b202a599-3437-42a9-f8cb-53c7de471027"
   },
   "outputs": [
    {
     "data": {
      "text/plain": [
       "Text(50.722222222222214, 0.5, 'Truth')"
      ]
     },
     "execution_count": 25,
     "metadata": {},
     "output_type": "execute_result"
    },
    {
     "data": {
      "image/png": "[encoded data removed]",
      "text/plain": [
       "<Figure size 640x480 with 2 Axes>"
      ]
     },
     "metadata": {},
     "output_type": "display_data"
    }
   ],
   "source": [
    "from matplotlib import pyplot as plt\n",
    "import seaborn as sn\n",
    "sn.heatmap(cm, annot=True, fmt='d')\n",
    "plt.xlabel('Predicted')\n",
    "plt.ylabel('Truth')"
   ]
  },
  {
   "cell_type": "code",
   "execution_count": null,
   "id": "Gz2xsiVWHXWB",
   "metadata": {
    "colab": {
     "background_save": true
    },
    "id": "Gz2xsiVWHXWB",
    "outputId": "1428079c-dda1-4a8e-8d9a-c69cbef4a9a3"
   },
   "outputs": [
    {
     "name": "stdout",
     "output_type": "stream",
     "text": [
      "              precision    recall  f1-score   support\n",
      "\n",
      "           0       0.85      0.93      0.89       375\n",
      "           1       0.92      0.84      0.88       375\n",
      "\n",
      "    accuracy                           0.88       750\n",
      "   macro avg       0.88      0.88      0.88       750\n",
      "weighted avg       0.88      0.88      0.88       750\n",
      "\n"
     ]
    }
   ],
   "source": [
    "print(classification_report(y_test, y_predicted))"
   ]
  },
  {
   "cell_type": "code",
   "execution_count": null,
   "id": "PcaPuNQDHadk",
   "metadata": {
    "colab": {
     "background_save": true
    },
    "id": "PcaPuNQDHadk",
    "outputId": "28eb1033-2bed-47a1-d3cc-5562f5d36aed"
   },
   "outputs": [
    {
     "name": "stdout",
     "output_type": "stream",
     "text": [
      "1/1 [==============================] - 3s 3s/step\n"
     ]
    },
    {
     "data": {
      "text/plain": [
       "array([[0.54944855],\n",
       "       [0.5168919 ],\n",
       "       [0.45613557],\n",
       "       [0.7791536 ],\n",
       "       [0.87253696]], dtype=float32)"
      ]
     },
     "execution_count": 27,
     "metadata": {},
     "output_type": "execute_result"
    }
   ],
   "source": [
    "reviews = [\n",
    "    'Enter a chance to win $5000, hurry up, offer valid until march 31, 2021',\n",
    "    'You are awarded a SiPix Digital Camera! call 09061221061 from landline. Delivery within 28days. T Cs Box177. M221BP. 2yr warranty. 150ppm. 16 . p pÂ£3.99',\n",
    "    'it to 80488. Your 500 free text messages are valid until 31 December 2005.',\n",
    "    'Hey Sam, Are you coming for a cricket game tomorrow',\n",
    "    \"Why don't you wait 'til at least wednesday to see if you get your .\"\n",
    "]\n",
    "model.predict(reviews)"
   ]
  }
 ],
 "metadata": {
  "accelerator": "TPU",
  "colab": {
   "provenance": []
  },
  "kernelspec": {
   "display_name": "Python 3 (ipykernel)",
   "language": "python",
   "name": "python3"
  },
  "language_info": {
   "codemirror_mode": {
    "name": "ipython",
    "version": 3
   },
   "file_extension": ".py",
   "mimetype": "text/x-python",
   "name": "python",
   "nbconvert_exporter": "python",
   "pygments_lexer": "ipython3",
   "version": "3.10.6"
  }
 },
 "nbformat": 4,
 "nbformat_minor": 5
}
